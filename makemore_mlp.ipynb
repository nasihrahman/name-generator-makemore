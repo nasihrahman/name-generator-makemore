{
 "cells": [
  {
   "cell_type": "code",
   "execution_count": 3,
   "id": "147cbd2f",
   "metadata": {},
   "outputs": [],
   "source": [
    "import torch\n",
    "import torch.nn.functional as F\n",
    "import matplotlib.pyplot as plt # for making figures\n",
    "%matplotlib inline"
   ]
  },
  {
   "cell_type": "code",
   "execution_count": 4,
   "id": "3e65141a",
   "metadata": {},
   "outputs": [
    {
     "data": {
      "text/plain": [
       "['emma', 'olivia', 'ava', 'isabella', 'sophia', 'charlotte', 'mia', 'amelia']"
      ]
     },
     "execution_count": 4,
     "metadata": {},
     "output_type": "execute_result"
    }
   ],
   "source": [
    "# read in all the words\n",
    "words = open('names.txt', 'r').read().splitlines()\n",
    "words[:8]"
   ]
  },
  {
   "cell_type": "code",
   "execution_count": 5,
   "id": "26b044dc",
   "metadata": {},
   "outputs": [
    {
     "name": "stdout",
     "output_type": "stream",
     "text": [
      "{1: 'a', 2: 'b', 3: 'c', 4: 'd', 5: 'e', 6: 'f', 7: 'g', 8: 'h', 9: 'i', 10: 'j', 11: 'k', 12: 'l', 13: 'm', 14: 'n', 15: 'o', 16: 'p', 17: 'q', 18: 'r', 19: 's', 20: 't', 21: 'u', 22: 'v', 23: 'w', 24: 'x', 25: 'y', 26: 'z', 0: '.'}\n"
     ]
    }
   ],
   "source": [
    "# build the vocabulary of characters and mappings to/from integers\n",
    "chars = sorted(list(set(''.join(words))))\n",
    "stoi = {s:i+1 for i,s in enumerate(chars)}\n",
    "stoi['.'] = 0\n",
    "itos = {i:s for s,i in stoi.items()}\n",
    "print(itos)"
   ]
  },
  {
   "cell_type": "code",
   "execution_count": 6,
   "id": "cd9bfd29",
   "metadata": {},
   "outputs": [
    {
     "data": {
      "text/plain": [
       "torch.Size([27, 2])"
      ]
     },
     "execution_count": 6,
     "metadata": {},
     "output_type": "execute_result"
    }
   ],
   "source": [
    "C = torch.randn((27, 2))\n",
    "C.shape"
   ]
  },
  {
   "cell_type": "code",
   "execution_count": 7,
   "id": "178876f8",
   "metadata": {},
   "outputs": [
    {
     "name": "stdout",
     "output_type": "stream",
     "text": [
      "... ---> e\n",
      "..e ---> m\n",
      ".em ---> m\n",
      "emm ---> a\n",
      "mma ---> .\n",
      "... ---> o\n",
      "..o ---> l\n",
      ".ol ---> i\n",
      "oli ---> v\n",
      "liv ---> i\n",
      "ivi ---> a\n",
      "via ---> .\n",
      "... ---> a\n",
      "..a ---> v\n",
      ".av ---> a\n",
      "ava ---> .\n",
      "... ---> i\n",
      "..i ---> s\n",
      ".is ---> a\n",
      "isa ---> b\n",
      "sab ---> e\n",
      "abe ---> l\n",
      "bel ---> l\n",
      "ell ---> a\n",
      "lla ---> .\n",
      "... ---> s\n",
      "..s ---> o\n",
      ".so ---> p\n",
      "sop ---> h\n",
      "oph ---> i\n",
      "phi ---> a\n",
      "hia ---> .\n",
      "[[0, 0, 0], [0, 0, 5], [0, 5, 13], [5, 13, 13], [13, 13, 1], [0, 0, 0], [0, 0, 15], [0, 15, 12], [15, 12, 9], [12, 9, 22], [9, 22, 9], [22, 9, 1], [0, 0, 0], [0, 0, 1], [0, 1, 22], [1, 22, 1], [0, 0, 0], [0, 0, 9], [0, 9, 19], [9, 19, 1], [19, 1, 2], [1, 2, 5], [2, 5, 12], [5, 12, 12], [12, 12, 1], [0, 0, 0], [0, 0, 19], [0, 19, 15], [19, 15, 16], [15, 16, 8], [16, 8, 9], [8, 9, 1]]\n",
      "torch.Size([32, 3]) torch.Size([32])\n"
     ]
    }
   ],
   "source": [
    "# build the dataset\n",
    "block_size = 3 # context length: how many characters do we take to predict the next one?\n",
    "\n",
    "\n",
    "X, Y = [], []\n",
    "for w in words[:5]:\n",
    "\n",
    "  #print(w)\n",
    "  context = [0] * block_size\n",
    "  # print(context)\n",
    "  for ch in w + '.':\n",
    "    ix = stoi[ch]\n",
    "    X.append(context)\n",
    "    # print(X)\n",
    "    \n",
    "    Y.append(ix)\n",
    "    print(''.join(itos[i] for i in context), '--->', itos[ix])\n",
    "    context = context[1:] + [ix] # crop and append\n",
    "    # print(context)\n",
    "print(X)\n",
    "X = torch.tensor(X)\n",
    "Y = torch.tensor(Y)\n",
    "print(X.shape, Y.shape)\n"
   ]
  },
  {
   "cell_type": "code",
   "execution_count": 8,
   "id": "76c69614",
   "metadata": {},
   "outputs": [
    {
     "name": "stdout",
     "output_type": "stream",
     "text": [
      "torch.Size([182625, 3]) torch.Size([182625])\n",
      "torch.Size([22655, 3]) torch.Size([22655])\n",
      "torch.Size([22866, 3]) torch.Size([22866])\n"
     ]
    }
   ],
   "source": [
    "block_size = 3 # context length: how many characters do we take to predict the next one?\n",
    "\n",
    "def build_dataset(words):  \n",
    "  X, Y = [], []\n",
    "  for w in words:\n",
    "\n",
    "    #print(w)\n",
    "    context = [0] * block_size\n",
    "    for ch in w + '.':\n",
    "      ix = stoi[ch]\n",
    "      X.append(context)\n",
    "      Y.append(ix)\n",
    "      #print(''.join(itos[i] for i in context), '--->', itos[ix])\n",
    "      context = context[1:] + [ix] # crop and append\n",
    "\n",
    "  X = torch.tensor(X)\n",
    "  Y = torch.tensor(Y)\n",
    "  print(X.shape, Y.shape)\n",
    "  return X, Y\n",
    "\n",
    "import random\n",
    "random.seed(42)\n",
    "random.shuffle(words)\n",
    "n1 = int(0.8*len(words))\n",
    "n2 = int(0.9*len(words))\n",
    "\n",
    "Xtr, Ytr = build_dataset(words[:n1])\n",
    "Xdev, Ydev = build_dataset(words[n1:n2])\n",
    "Xte, Yte = build_dataset(words[n2:])"
   ]
  },
  {
   "cell_type": "code",
   "execution_count": 9,
   "id": "2dfe3637",
   "metadata": {},
   "outputs": [
    {
     "data": {
      "text/plain": [
       "torch.Size([32, 3])"
      ]
     },
     "execution_count": 9,
     "metadata": {},
     "output_type": "execute_result"
    }
   ],
   "source": [
    "X.shape"
   ]
  },
  {
   "cell_type": "code",
   "execution_count": 10,
   "id": "8b48409c",
   "metadata": {},
   "outputs": [
    {
     "data": {
      "text/plain": [
       "[9, 1, 0]"
      ]
     },
     "execution_count": 10,
     "metadata": {},
     "output_type": "execute_result"
    }
   ],
   "source": [
    "context"
   ]
  },
  {
   "cell_type": "code",
   "execution_count": 11,
   "id": "394cf6f8",
   "metadata": {},
   "outputs": [
    {
     "data": {
      "text/plain": [
       "tensor([[[ 0.3838, -1.1150],\n",
       "         [ 0.3838, -1.1150],\n",
       "         [ 0.3838, -1.1150]],\n",
       "\n",
       "        [[ 0.3838, -1.1150],\n",
       "         [ 0.3838, -1.1150],\n",
       "         [-0.2136,  0.1180]],\n",
       "\n",
       "        [[ 0.3838, -1.1150],\n",
       "         [-0.2136,  0.1180],\n",
       "         [ 0.6651,  0.2696]],\n",
       "\n",
       "        [[-0.2136,  0.1180],\n",
       "         [ 0.6651,  0.2696],\n",
       "         [ 0.6651,  0.2696]],\n",
       "\n",
       "        [[ 0.6651,  0.2696],\n",
       "         [ 0.6651,  0.2696],\n",
       "         [-1.5927, -1.7184]],\n",
       "\n",
       "        [[ 0.3838, -1.1150],\n",
       "         [ 0.3838, -1.1150],\n",
       "         [ 0.3838, -1.1150]],\n",
       "\n",
       "        [[ 0.3838, -1.1150],\n",
       "         [ 0.3838, -1.1150],\n",
       "         [ 1.4631, -1.7455]],\n",
       "\n",
       "        [[ 0.3838, -1.1150],\n",
       "         [ 1.4631, -1.7455],\n",
       "         [ 0.1884, -0.2648]],\n",
       "\n",
       "        [[ 1.4631, -1.7455],\n",
       "         [ 0.1884, -0.2648],\n",
       "         [ 0.3091, -0.6728]],\n",
       "\n",
       "        [[ 0.1884, -0.2648],\n",
       "         [ 0.3091, -0.6728],\n",
       "         [ 0.5681, -0.4695]],\n",
       "\n",
       "        [[ 0.3091, -0.6728],\n",
       "         [ 0.5681, -0.4695],\n",
       "         [ 0.3091, -0.6728]],\n",
       "\n",
       "        [[ 0.5681, -0.4695],\n",
       "         [ 0.3091, -0.6728],\n",
       "         [-1.5927, -1.7184]],\n",
       "\n",
       "        [[ 0.3838, -1.1150],\n",
       "         [ 0.3838, -1.1150],\n",
       "         [ 0.3838, -1.1150]],\n",
       "\n",
       "        [[ 0.3838, -1.1150],\n",
       "         [ 0.3838, -1.1150],\n",
       "         [-1.5927, -1.7184]],\n",
       "\n",
       "        [[ 0.3838, -1.1150],\n",
       "         [-1.5927, -1.7184],\n",
       "         [ 0.5681, -0.4695]],\n",
       "\n",
       "        [[-1.5927, -1.7184],\n",
       "         [ 0.5681, -0.4695],\n",
       "         [-1.5927, -1.7184]],\n",
       "\n",
       "        [[ 0.3838, -1.1150],\n",
       "         [ 0.3838, -1.1150],\n",
       "         [ 0.3838, -1.1150]],\n",
       "\n",
       "        [[ 0.3838, -1.1150],\n",
       "         [ 0.3838, -1.1150],\n",
       "         [ 0.3091, -0.6728]],\n",
       "\n",
       "        [[ 0.3838, -1.1150],\n",
       "         [ 0.3091, -0.6728],\n",
       "         [ 1.3878,  0.6920]],\n",
       "\n",
       "        [[ 0.3091, -0.6728],\n",
       "         [ 1.3878,  0.6920],\n",
       "         [-1.5927, -1.7184]],\n",
       "\n",
       "        [[ 1.3878,  0.6920],\n",
       "         [-1.5927, -1.7184],\n",
       "         [ 0.0810,  1.1469]],\n",
       "\n",
       "        [[-1.5927, -1.7184],\n",
       "         [ 0.0810,  1.1469],\n",
       "         [-0.2136,  0.1180]],\n",
       "\n",
       "        [[ 0.0810,  1.1469],\n",
       "         [-0.2136,  0.1180],\n",
       "         [ 0.1884, -0.2648]],\n",
       "\n",
       "        [[-0.2136,  0.1180],\n",
       "         [ 0.1884, -0.2648],\n",
       "         [ 0.1884, -0.2648]],\n",
       "\n",
       "        [[ 0.1884, -0.2648],\n",
       "         [ 0.1884, -0.2648],\n",
       "         [-1.5927, -1.7184]],\n",
       "\n",
       "        [[ 0.3838, -1.1150],\n",
       "         [ 0.3838, -1.1150],\n",
       "         [ 0.3838, -1.1150]],\n",
       "\n",
       "        [[ 0.3838, -1.1150],\n",
       "         [ 0.3838, -1.1150],\n",
       "         [ 1.3878,  0.6920]],\n",
       "\n",
       "        [[ 0.3838, -1.1150],\n",
       "         [ 1.3878,  0.6920],\n",
       "         [ 1.4631, -1.7455]],\n",
       "\n",
       "        [[ 1.3878,  0.6920],\n",
       "         [ 1.4631, -1.7455],\n",
       "         [-0.0684,  0.8075]],\n",
       "\n",
       "        [[ 1.4631, -1.7455],\n",
       "         [-0.0684,  0.8075],\n",
       "         [ 1.1790,  0.1616]],\n",
       "\n",
       "        [[-0.0684,  0.8075],\n",
       "         [ 1.1790,  0.1616],\n",
       "         [ 0.3091, -0.6728]],\n",
       "\n",
       "        [[ 1.1790,  0.1616],\n",
       "         [ 0.3091, -0.6728],\n",
       "         [-1.5927, -1.7184]]])"
      ]
     },
     "execution_count": 11,
     "metadata": {},
     "output_type": "execute_result"
    }
   ],
   "source": [
    "C[X]\n"
   ]
  },
  {
   "cell_type": "code",
   "execution_count": 12,
   "id": "2c8fb9ca",
   "metadata": {},
   "outputs": [
    {
     "data": {
      "text/plain": [
       "torch.Size([32, 3])"
      ]
     },
     "execution_count": 12,
     "metadata": {},
     "output_type": "execute_result"
    }
   ],
   "source": [
    "X.shape\n"
   ]
  },
  {
   "cell_type": "code",
   "execution_count": 13,
   "id": "1abd7728",
   "metadata": {},
   "outputs": [
    {
     "data": {
      "text/plain": [
       "torch.Size([32, 3, 2])"
      ]
     },
     "execution_count": 13,
     "metadata": {},
     "output_type": "execute_result"
    }
   ],
   "source": [
    "emb = C[X]\n",
    "emb.shape"
   ]
  },
  {
   "cell_type": "code",
   "execution_count": 14,
   "id": "dfa81501",
   "metadata": {},
   "outputs": [
    {
     "data": {
      "text/plain": [
       "tensor([[ 0.3838, -1.1150,  0.3838, -1.1150,  0.3838, -1.1150],\n",
       "        [ 0.3838, -1.1150,  0.3838, -1.1150, -0.2136,  0.1180],\n",
       "        [ 0.3838, -1.1150, -0.2136,  0.1180,  0.6651,  0.2696],\n",
       "        [-0.2136,  0.1180,  0.6651,  0.2696,  0.6651,  0.2696],\n",
       "        [ 0.6651,  0.2696,  0.6651,  0.2696, -1.5927, -1.7184],\n",
       "        [ 0.3838, -1.1150,  0.3838, -1.1150,  0.3838, -1.1150],\n",
       "        [ 0.3838, -1.1150,  0.3838, -1.1150,  1.4631, -1.7455],\n",
       "        [ 0.3838, -1.1150,  1.4631, -1.7455,  0.1884, -0.2648],\n",
       "        [ 1.4631, -1.7455,  0.1884, -0.2648,  0.3091, -0.6728],\n",
       "        [ 0.1884, -0.2648,  0.3091, -0.6728,  0.5681, -0.4695],\n",
       "        [ 0.3091, -0.6728,  0.5681, -0.4695,  0.3091, -0.6728],\n",
       "        [ 0.5681, -0.4695,  0.3091, -0.6728, -1.5927, -1.7184],\n",
       "        [ 0.3838, -1.1150,  0.3838, -1.1150,  0.3838, -1.1150],\n",
       "        [ 0.3838, -1.1150,  0.3838, -1.1150, -1.5927, -1.7184],\n",
       "        [ 0.3838, -1.1150, -1.5927, -1.7184,  0.5681, -0.4695],\n",
       "        [-1.5927, -1.7184,  0.5681, -0.4695, -1.5927, -1.7184],\n",
       "        [ 0.3838, -1.1150,  0.3838, -1.1150,  0.3838, -1.1150],\n",
       "        [ 0.3838, -1.1150,  0.3838, -1.1150,  0.3091, -0.6728],\n",
       "        [ 0.3838, -1.1150,  0.3091, -0.6728,  1.3878,  0.6920],\n",
       "        [ 0.3091, -0.6728,  1.3878,  0.6920, -1.5927, -1.7184],\n",
       "        [ 1.3878,  0.6920, -1.5927, -1.7184,  0.0810,  1.1469],\n",
       "        [-1.5927, -1.7184,  0.0810,  1.1469, -0.2136,  0.1180],\n",
       "        [ 0.0810,  1.1469, -0.2136,  0.1180,  0.1884, -0.2648],\n",
       "        [-0.2136,  0.1180,  0.1884, -0.2648,  0.1884, -0.2648],\n",
       "        [ 0.1884, -0.2648,  0.1884, -0.2648, -1.5927, -1.7184],\n",
       "        [ 0.3838, -1.1150,  0.3838, -1.1150,  0.3838, -1.1150],\n",
       "        [ 0.3838, -1.1150,  0.3838, -1.1150,  1.3878,  0.6920],\n",
       "        [ 0.3838, -1.1150,  1.3878,  0.6920,  1.4631, -1.7455],\n",
       "        [ 1.3878,  0.6920,  1.4631, -1.7455, -0.0684,  0.8075],\n",
       "        [ 1.4631, -1.7455, -0.0684,  0.8075,  1.1790,  0.1616],\n",
       "        [-0.0684,  0.8075,  1.1790,  0.1616,  0.3091, -0.6728],\n",
       "        [ 1.1790,  0.1616,  0.3091, -0.6728, -1.5927, -1.7184]])"
      ]
     },
     "execution_count": 14,
     "metadata": {},
     "output_type": "execute_result"
    }
   ],
   "source": [
    "\n",
    "torch.cat([emb[:, 0, :],emb[:, 1, :],emb[:, 2, :]],1) # select 2nd dimensions 3 columns explicitly and changes int to 2d"
   ]
  },
  {
   "cell_type": "code",
   "execution_count": 15,
   "id": "7117711a",
   "metadata": {},
   "outputs": [
    {
     "data": {
      "text/plain": [
       "torch.Size([32, 6])"
      ]
     },
     "execution_count": 15,
     "metadata": {},
     "output_type": "execute_result"
    }
   ],
   "source": [
    "torch.cat([emb[:, 0, :],emb[:, 1, :],emb[:, 2, :]],1).shape #[32,3,2] = 32,6"
   ]
  },
  {
   "cell_type": "code",
   "execution_count": 16,
   "id": "5aa36abd",
   "metadata": {},
   "outputs": [
    {
     "data": {
      "text/plain": [
       "torch.Size([32, 6])"
      ]
     },
     "execution_count": 16,
     "metadata": {},
     "output_type": "execute_result"
    }
   ],
   "source": [
    "#without explicitly stating\n",
    "torch.cat(torch.unbind(emb , 1), 1).shape #select 2nd D and convert"
   ]
  },
  {
   "cell_type": "code",
   "execution_count": 17,
   "id": "848aa7e5",
   "metadata": {},
   "outputs": [
    {
     "data": {
      "text/plain": [
       "tensor([ 0,  1,  2,  3,  4,  5,  6,  7,  8,  9, 10, 11, 12, 13, 14, 15, 16, 17])"
      ]
     },
     "execution_count": 17,
     "metadata": {},
     "output_type": "execute_result"
    }
   ],
   "source": [
    "a = torch.arange(18)\n",
    "a"
   ]
  },
  {
   "cell_type": "code",
   "execution_count": 18,
   "id": "c1e22ca2",
   "metadata": {},
   "outputs": [
    {
     "data": {
      "text/plain": [
       "tensor([[[ 0,  1],\n",
       "         [ 2,  3],\n",
       "         [ 4,  5]],\n",
       "\n",
       "        [[ 6,  7],\n",
       "         [ 8,  9],\n",
       "         [10, 11]],\n",
       "\n",
       "        [[12, 13],\n",
       "         [14, 15],\n",
       "         [16, 17]]])"
      ]
     },
     "execution_count": 18,
     "metadata": {},
     "output_type": "execute_result"
    }
   ],
   "source": [
    "a.view(3,3,2)"
   ]
  },
  {
   "cell_type": "code",
   "execution_count": 19,
   "id": "5f26d4e4",
   "metadata": {},
   "outputs": [],
   "source": [
    "g = torch.Generator().manual_seed(2147483647) # for reproducibility\n",
    "C = torch.randn((27, 10), generator=g)\n",
    "W1 = torch.randn((30, 200), generator=g)\n",
    "b1 = torch.randn(200, generator=g)\n",
    "W2 = torch.randn((200, 27), generator=g)\n",
    "b2 = torch.randn(27, generator=g)\n",
    "parameters = [C, W1, b1, W2, b2]"
   ]
  },
  {
   "cell_type": "code",
   "execution_count": 20,
   "id": "302e4f35",
   "metadata": {},
   "outputs": [
    {
     "data": {
      "text/plain": [
       "11897"
      ]
     },
     "execution_count": 20,
     "metadata": {},
     "output_type": "execute_result"
    }
   ],
   "source": [
    "sum(p.nelement() for p in parameters) # number of parameters in total"
   ]
  },
  {
   "cell_type": "code",
   "execution_count": 21,
   "id": "23ce0fc9",
   "metadata": {},
   "outputs": [],
   "source": [
    "for p in parameters:\n",
    "  p.requires_grad = True"
   ]
  },
  {
   "cell_type": "code",
   "execution_count": null,
   "id": "25657b35",
   "metadata": {},
   "outputs": [],
   "source": [
    "#to find the best learning rate\n",
    "\n",
    "lre = torch.linspace(-3, 0, 1000)#-3,0 are exponential 10**-3 = .001\n",
    "lrs = 10**lre"
   ]
  }
 ],
 "metadata": {
  "kernelspec": {
   "display_name": "venv",
   "language": "python",
   "name": "python3"
  },
  "language_info": {
   "codemirror_mode": {
    "name": "ipython",
    "version": 3
   },
   "file_extension": ".py",
   "mimetype": "text/x-python",
   "name": "python",
   "nbconvert_exporter": "python",
   "pygments_lexer": "ipython3",
   "version": "3.10.0"
  }
 },
 "nbformat": 4,
 "nbformat_minor": 5
}
