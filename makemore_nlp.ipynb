{
 "cells": [
  {
   "cell_type": "code",
   "execution_count": 2,
   "id": "147cbd2f",
   "metadata": {},
   "outputs": [],
   "source": [
    "import torch\n",
    "import torch.nn.functional as F\n",
    "import matplotlib.pyplot as plt # for making figures\n",
    "%matplotlib inline"
   ]
  },
  {
   "cell_type": "code",
   "execution_count": 3,
   "id": "3e65141a",
   "metadata": {},
   "outputs": [
    {
     "data": {
      "text/plain": [
       "['emma', 'olivia', 'ava', 'isabella', 'sophia', 'charlotte', 'mia', 'amelia']"
      ]
     },
     "execution_count": 3,
     "metadata": {},
     "output_type": "execute_result"
    }
   ],
   "source": [
    "# read in all the words\n",
    "words = open('names.txt', 'r').read().splitlines()\n",
    "words[:8]"
   ]
  },
  {
   "cell_type": "code",
   "execution_count": 4,
   "id": "26b044dc",
   "metadata": {},
   "outputs": [
    {
     "name": "stdout",
     "output_type": "stream",
     "text": [
      "{1: 'a', 2: 'b', 3: 'c', 4: 'd', 5: 'e', 6: 'f', 7: 'g', 8: 'h', 9: 'i', 10: 'j', 11: 'k', 12: 'l', 13: 'm', 14: 'n', 15: 'o', 16: 'p', 17: 'q', 18: 'r', 19: 's', 20: 't', 21: 'u', 22: 'v', 23: 'w', 24: 'x', 25: 'y', 26: 'z', 0: '.'}\n"
     ]
    }
   ],
   "source": [
    "# build the vocabulary of characters and mappings to/from integers\n",
    "chars = sorted(list(set(''.join(words))))\n",
    "stoi = {s:i+1 for i,s in enumerate(chars)}\n",
    "stoi['.'] = 0\n",
    "itos = {i:s for s,i in stoi.items()}\n",
    "print(itos)"
   ]
  },
  {
   "cell_type": "code",
   "execution_count": 15,
   "id": "cd9bfd29",
   "metadata": {},
   "outputs": [
    {
     "data": {
      "text/plain": [
       "torch.Size([27, 2])"
      ]
     },
     "execution_count": 15,
     "metadata": {},
     "output_type": "execute_result"
    }
   ],
   "source": [
    "C = torch.randn((27, 2))\n",
    "C.shape"
   ]
  },
  {
   "cell_type": "code",
   "execution_count": null,
   "id": "38eb934d",
   "metadata": {},
   "outputs": [],
   "source": []
  },
  {
   "cell_type": "code",
   "execution_count": 6,
   "id": "178876f8",
   "metadata": {},
   "outputs": [
    {
     "name": "stdout",
     "output_type": "stream",
     "text": [
      "... ---> e\n",
      "..e ---> m\n",
      ".em ---> m\n",
      "emm ---> a\n",
      "mma ---> .\n",
      "... ---> o\n",
      "..o ---> l\n",
      ".ol ---> i\n",
      "oli ---> v\n",
      "liv ---> i\n",
      "ivi ---> a\n",
      "via ---> .\n",
      "... ---> a\n",
      "..a ---> v\n",
      ".av ---> a\n",
      "ava ---> .\n",
      "... ---> i\n",
      "..i ---> s\n",
      ".is ---> a\n",
      "isa ---> b\n",
      "sab ---> e\n",
      "abe ---> l\n",
      "bel ---> l\n",
      "ell ---> a\n",
      "lla ---> .\n",
      "... ---> s\n",
      "..s ---> o\n",
      ".so ---> p\n",
      "sop ---> h\n",
      "oph ---> i\n",
      "phi ---> a\n",
      "hia ---> .\n",
      "torch.Size([32, 3]) torch.Size([32])\n"
     ]
    }
   ],
   "source": [
    "# build the dataset\n",
    "block_size = 3 # context length: how many characters do we take to predict the next one?\n",
    "\n",
    "\n",
    "X, Y = [], []\n",
    "for w in words[:5]:\n",
    "\n",
    "  #print(w)\n",
    "  context = [0] * block_size\n",
    "  for ch in w + '.':\n",
    "    ix = stoi[ch]\n",
    "    X.append(context)\n",
    "    Y.append(ix)\n",
    "    print(''.join(itos[i] for i in context), '--->', itos[ix])\n",
    "    context = context[1:] + [ix] # crop and append\n",
    "\n",
    "X = torch.tensor(X)\n",
    "Y = torch.tensor(Y)\n",
    "print(X.shape, Y.shape)\n"
   ]
  },
  {
   "cell_type": "code",
   "execution_count": 7,
   "id": "2dfe3637",
   "metadata": {},
   "outputs": [
    {
     "data": {
      "text/plain": [
       "torch.Size([32, 3])"
      ]
     },
     "execution_count": 7,
     "metadata": {},
     "output_type": "execute_result"
    }
   ],
   "source": [
    "X.shape"
   ]
  },
  {
   "cell_type": "code",
   "execution_count": 8,
   "id": "8b48409c",
   "metadata": {},
   "outputs": [
    {
     "data": {
      "text/plain": [
       "[9, 1, 0]"
      ]
     },
     "execution_count": 8,
     "metadata": {},
     "output_type": "execute_result"
    }
   ],
   "source": [
    "context"
   ]
  },
  {
   "cell_type": "code",
   "execution_count": 18,
   "id": "394cf6f8",
   "metadata": {},
   "outputs": [
    {
     "data": {
      "text/plain": [
       "tensor([[[-1.0140,  0.2307],\n",
       "         [-1.0140,  0.2307],\n",
       "         [-1.0140,  0.2307]],\n",
       "\n",
       "        [[-1.0140,  0.2307],\n",
       "         [-1.0140,  0.2307],\n",
       "         [ 0.1405,  1.0665]],\n",
       "\n",
       "        [[-1.0140,  0.2307],\n",
       "         [ 0.1405,  1.0665],\n",
       "         [ 1.3503, -0.4310]],\n",
       "\n",
       "        [[ 0.1405,  1.0665],\n",
       "         [ 1.3503, -0.4310],\n",
       "         [ 1.3503, -0.4310]],\n",
       "\n",
       "        [[ 1.3503, -0.4310],\n",
       "         [ 1.3503, -0.4310],\n",
       "         [ 0.6659, -0.5109]],\n",
       "\n",
       "        [[-1.0140,  0.2307],\n",
       "         [-1.0140,  0.2307],\n",
       "         [-1.0140,  0.2307]],\n",
       "\n",
       "        [[-1.0140,  0.2307],\n",
       "         [-1.0140,  0.2307],\n",
       "         [-0.2516, -0.1689]],\n",
       "\n",
       "        [[-1.0140,  0.2307],\n",
       "         [-0.2516, -0.1689],\n",
       "         [ 0.1480,  0.9402]],\n",
       "\n",
       "        [[-0.2516, -0.1689],\n",
       "         [ 0.1480,  0.9402],\n",
       "         [ 0.1888, -2.4088]],\n",
       "\n",
       "        [[ 0.1480,  0.9402],\n",
       "         [ 0.1888, -2.4088],\n",
       "         [ 0.6915,  0.0081]],\n",
       "\n",
       "        [[ 0.1888, -2.4088],\n",
       "         [ 0.6915,  0.0081],\n",
       "         [ 0.1888, -2.4088]],\n",
       "\n",
       "        [[ 0.6915,  0.0081],\n",
       "         [ 0.1888, -2.4088],\n",
       "         [ 0.6659, -0.5109]],\n",
       "\n",
       "        [[-1.0140,  0.2307],\n",
       "         [-1.0140,  0.2307],\n",
       "         [-1.0140,  0.2307]],\n",
       "\n",
       "        [[-1.0140,  0.2307],\n",
       "         [-1.0140,  0.2307],\n",
       "         [ 0.6659, -0.5109]],\n",
       "\n",
       "        [[-1.0140,  0.2307],\n",
       "         [ 0.6659, -0.5109],\n",
       "         [ 0.6915,  0.0081]],\n",
       "\n",
       "        [[ 0.6659, -0.5109],\n",
       "         [ 0.6915,  0.0081],\n",
       "         [ 0.6659, -0.5109]],\n",
       "\n",
       "        [[-1.0140,  0.2307],\n",
       "         [-1.0140,  0.2307],\n",
       "         [-1.0140,  0.2307]],\n",
       "\n",
       "        [[-1.0140,  0.2307],\n",
       "         [-1.0140,  0.2307],\n",
       "         [ 0.1888, -2.4088]],\n",
       "\n",
       "        [[-1.0140,  0.2307],\n",
       "         [ 0.1888, -2.4088],\n",
       "         [-0.5387,  0.2121]],\n",
       "\n",
       "        [[ 0.1888, -2.4088],\n",
       "         [-0.5387,  0.2121],\n",
       "         [ 0.6659, -0.5109]],\n",
       "\n",
       "        [[-0.5387,  0.2121],\n",
       "         [ 0.6659, -0.5109],\n",
       "         [-1.0268, -0.5831]],\n",
       "\n",
       "        [[ 0.6659, -0.5109],\n",
       "         [-1.0268, -0.5831],\n",
       "         [ 0.1405,  1.0665]],\n",
       "\n",
       "        [[-1.0268, -0.5831],\n",
       "         [ 0.1405,  1.0665],\n",
       "         [ 0.1480,  0.9402]],\n",
       "\n",
       "        [[ 0.1405,  1.0665],\n",
       "         [ 0.1480,  0.9402],\n",
       "         [ 0.1480,  0.9402]],\n",
       "\n",
       "        [[ 0.1480,  0.9402],\n",
       "         [ 0.1480,  0.9402],\n",
       "         [ 0.6659, -0.5109]],\n",
       "\n",
       "        [[-1.0140,  0.2307],\n",
       "         [-1.0140,  0.2307],\n",
       "         [-1.0140,  0.2307]],\n",
       "\n",
       "        [[-1.0140,  0.2307],\n",
       "         [-1.0140,  0.2307],\n",
       "         [-0.5387,  0.2121]],\n",
       "\n",
       "        [[-1.0140,  0.2307],\n",
       "         [-0.5387,  0.2121],\n",
       "         [-0.2516, -0.1689]],\n",
       "\n",
       "        [[-0.5387,  0.2121],\n",
       "         [-0.2516, -0.1689],\n",
       "         [-0.9093,  0.2992]],\n",
       "\n",
       "        [[-0.2516, -0.1689],\n",
       "         [-0.9093,  0.2992],\n",
       "         [ 1.6587,  0.3130]],\n",
       "\n",
       "        [[-0.9093,  0.2992],\n",
       "         [ 1.6587,  0.3130],\n",
       "         [ 0.1888, -2.4088]],\n",
       "\n",
       "        [[ 1.6587,  0.3130],\n",
       "         [ 0.1888, -2.4088],\n",
       "         [ 0.6659, -0.5109]]])"
      ]
     },
     "execution_count": 18,
     "metadata": {},
     "output_type": "execute_result"
    }
   ],
   "source": [
    "C[X]\n"
   ]
  },
  {
   "cell_type": "code",
   "execution_count": 20,
   "id": "2c8fb9ca",
   "metadata": {},
   "outputs": [
    {
     "data": {
      "text/plain": [
       "torch.Size([32, 3])"
      ]
     },
     "execution_count": 20,
     "metadata": {},
     "output_type": "execute_result"
    }
   ],
   "source": [
    "X.shape\n"
   ]
  },
  {
   "cell_type": "code",
   "execution_count": 23,
   "id": "1abd7728",
   "metadata": {},
   "outputs": [
    {
     "data": {
      "text/plain": [
       "torch.Size([32, 3, 2])"
      ]
     },
     "execution_count": 23,
     "metadata": {},
     "output_type": "execute_result"
    }
   ],
   "source": [
    "emb = C[X]\n",
    "emb.shape"
   ]
  },
  {
   "cell_type": "code",
   "execution_count": 25,
   "id": "dfa81501",
   "metadata": {},
   "outputs": [
    {
     "data": {
      "text/plain": [
       "tensor([[-1.0140,  0.2307, -1.0140,  0.2307, -1.0140,  0.2307],\n",
       "        [-1.0140,  0.2307, -1.0140,  0.2307,  0.1405,  1.0665],\n",
       "        [-1.0140,  0.2307,  0.1405,  1.0665,  1.3503, -0.4310],\n",
       "        [ 0.1405,  1.0665,  1.3503, -0.4310,  1.3503, -0.4310],\n",
       "        [ 1.3503, -0.4310,  1.3503, -0.4310,  0.6659, -0.5109],\n",
       "        [-1.0140,  0.2307, -1.0140,  0.2307, -1.0140,  0.2307],\n",
       "        [-1.0140,  0.2307, -1.0140,  0.2307, -0.2516, -0.1689],\n",
       "        [-1.0140,  0.2307, -0.2516, -0.1689,  0.1480,  0.9402],\n",
       "        [-0.2516, -0.1689,  0.1480,  0.9402,  0.1888, -2.4088],\n",
       "        [ 0.1480,  0.9402,  0.1888, -2.4088,  0.6915,  0.0081],\n",
       "        [ 0.1888, -2.4088,  0.6915,  0.0081,  0.1888, -2.4088],\n",
       "        [ 0.6915,  0.0081,  0.1888, -2.4088,  0.6659, -0.5109],\n",
       "        [-1.0140,  0.2307, -1.0140,  0.2307, -1.0140,  0.2307],\n",
       "        [-1.0140,  0.2307, -1.0140,  0.2307,  0.6659, -0.5109],\n",
       "        [-1.0140,  0.2307,  0.6659, -0.5109,  0.6915,  0.0081],\n",
       "        [ 0.6659, -0.5109,  0.6915,  0.0081,  0.6659, -0.5109],\n",
       "        [-1.0140,  0.2307, -1.0140,  0.2307, -1.0140,  0.2307],\n",
       "        [-1.0140,  0.2307, -1.0140,  0.2307,  0.1888, -2.4088],\n",
       "        [-1.0140,  0.2307,  0.1888, -2.4088, -0.5387,  0.2121],\n",
       "        [ 0.1888, -2.4088, -0.5387,  0.2121,  0.6659, -0.5109],\n",
       "        [-0.5387,  0.2121,  0.6659, -0.5109, -1.0268, -0.5831],\n",
       "        [ 0.6659, -0.5109, -1.0268, -0.5831,  0.1405,  1.0665],\n",
       "        [-1.0268, -0.5831,  0.1405,  1.0665,  0.1480,  0.9402],\n",
       "        [ 0.1405,  1.0665,  0.1480,  0.9402,  0.1480,  0.9402],\n",
       "        [ 0.1480,  0.9402,  0.1480,  0.9402,  0.6659, -0.5109],\n",
       "        [-1.0140,  0.2307, -1.0140,  0.2307, -1.0140,  0.2307],\n",
       "        [-1.0140,  0.2307, -1.0140,  0.2307, -0.5387,  0.2121],\n",
       "        [-1.0140,  0.2307, -0.5387,  0.2121, -0.2516, -0.1689],\n",
       "        [-0.5387,  0.2121, -0.2516, -0.1689, -0.9093,  0.2992],\n",
       "        [-0.2516, -0.1689, -0.9093,  0.2992,  1.6587,  0.3130],\n",
       "        [-0.9093,  0.2992,  1.6587,  0.3130,  0.1888, -2.4088],\n",
       "        [ 1.6587,  0.3130,  0.1888, -2.4088,  0.6659, -0.5109]])"
      ]
     },
     "execution_count": 25,
     "metadata": {},
     "output_type": "execute_result"
    }
   ],
   "source": [
    "\n",
    "torch.cat([emb[:, 0, :],emb[:, 1, :],emb[:, 2, :]],1) # select 2nd dimensions 3 columns explicitly and changes int to 2d"
   ]
  },
  {
   "cell_type": "code",
   "execution_count": 27,
   "id": "7117711a",
   "metadata": {},
   "outputs": [
    {
     "data": {
      "text/plain": [
       "torch.Size([32, 6])"
      ]
     },
     "execution_count": 27,
     "metadata": {},
     "output_type": "execute_result"
    }
   ],
   "source": [
    "torch.cat([emb[:, 0, :],emb[:, 1, :],emb[:, 2, :]],1).shape #[32,3,2] = 32,6"
   ]
  },
  {
   "cell_type": "code",
   "execution_count": 28,
   "id": "5aa36abd",
   "metadata": {},
   "outputs": [
    {
     "data": {
      "text/plain": [
       "torch.Size([32, 6])"
      ]
     },
     "execution_count": 28,
     "metadata": {},
     "output_type": "execute_result"
    }
   ],
   "source": [
    "#without explicitly stating\n",
    "torch.cat(torch.unbind(emb , 1), 1).shape #select 2nd D and convert"
   ]
  },
  {
   "cell_type": "code",
   "execution_count": 29,
   "id": "848aa7e5",
   "metadata": {},
   "outputs": [
    {
     "data": {
      "text/plain": [
       "tensor([ 0,  1,  2,  3,  4,  5,  6,  7,  8,  9, 10, 11, 12, 13, 14, 15, 16, 17])"
      ]
     },
     "execution_count": 29,
     "metadata": {},
     "output_type": "execute_result"
    }
   ],
   "source": [
    "a = torch.arange(18)\n",
    "a"
   ]
  },
  {
   "cell_type": "code",
   "execution_count": 30,
   "id": "c1e22ca2",
   "metadata": {},
   "outputs": [
    {
     "data": {
      "text/plain": [
       "tensor([[[ 0,  1],\n",
       "         [ 2,  3],\n",
       "         [ 4,  5]],\n",
       "\n",
       "        [[ 6,  7],\n",
       "         [ 8,  9],\n",
       "         [10, 11]],\n",
       "\n",
       "        [[12, 13],\n",
       "         [14, 15],\n",
       "         [16, 17]]])"
      ]
     },
     "execution_count": 30,
     "metadata": {},
     "output_type": "execute_result"
    }
   ],
   "source": [
    "a.view(3,3,2)"
   ]
  }
 ],
 "metadata": {
  "kernelspec": {
   "display_name": "venv",
   "language": "python",
   "name": "python3"
  },
  "language_info": {
   "codemirror_mode": {
    "name": "ipython",
    "version": 3
   },
   "file_extension": ".py",
   "mimetype": "text/x-python",
   "name": "python",
   "nbconvert_exporter": "python",
   "pygments_lexer": "ipython3",
   "version": "3.10.0"
  }
 },
 "nbformat": 4,
 "nbformat_minor": 5
}
